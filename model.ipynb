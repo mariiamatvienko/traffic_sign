{
  "cells": [
    {
      "cell_type": "code",
      "execution_count": 1,
      "metadata": {
        "colab": {
          "base_uri": "https://localhost:8080/"
        },
        "id": "LNUCvFh-OGt0",
        "outputId": "0de2e996-7ec6-4891-e34e-d9d9698327d6"
      },
      "outputs": [
        {
          "output_type": "stream",
          "name": "stdout",
          "text": [
            "Looking in indexes: https://pypi.org/simple, https://us-python.pkg.dev/colab-wheels/public/simple/\n",
            "Requirement already satisfied: kaggle in /usr/local/lib/python3.7/dist-packages (1.5.12)\n",
            "Requirement already satisfied: six>=1.10 in /usr/local/lib/python3.7/dist-packages (from kaggle) (1.15.0)\n",
            "Requirement already satisfied: python-dateutil in /usr/local/lib/python3.7/dist-packages (from kaggle) (2.8.2)\n",
            "Requirement already satisfied: tqdm in /usr/local/lib/python3.7/dist-packages (from kaggle) (4.64.0)\n",
            "Requirement already satisfied: requests in /usr/local/lib/python3.7/dist-packages (from kaggle) (2.23.0)\n",
            "Requirement already satisfied: python-slugify in /usr/local/lib/python3.7/dist-packages (from kaggle) (6.1.2)\n",
            "Requirement already satisfied: certifi in /usr/local/lib/python3.7/dist-packages (from kaggle) (2022.6.15)\n",
            "Requirement already satisfied: urllib3 in /usr/local/lib/python3.7/dist-packages (from kaggle) (1.24.3)\n",
            "Requirement already satisfied: text-unidecode>=1.3 in /usr/local/lib/python3.7/dist-packages (from python-slugify->kaggle) (1.3)\n",
            "Requirement already satisfied: idna<3,>=2.5 in /usr/local/lib/python3.7/dist-packages (from requests->kaggle) (2.10)\n",
            "Requirement already satisfied: chardet<4,>=3.0.2 in /usr/local/lib/python3.7/dist-packages (from requests->kaggle) (3.0.4)\n"
          ]
        }
      ],
      "source": [
        "! pip install kaggle"
      ]
    },
    {
      "cell_type": "code",
      "execution_count": 2,
      "metadata": {
        "id": "w2wHm7NCOYM8"
      },
      "outputs": [],
      "source": [
        "! mkdir ~/.kaggle"
      ]
    },
    {
      "cell_type": "code",
      "execution_count": 3,
      "metadata": {
        "id": "LCOW6GbzOciX"
      },
      "outputs": [],
      "source": [
        "! cp kaggle.json ~/.kaggle/"
      ]
    },
    {
      "cell_type": "code",
      "execution_count": 4,
      "metadata": {
        "id": "ST882AAAOh-o"
      },
      "outputs": [],
      "source": [
        "! chmod 600 ~/.kaggle/kaggle.json"
      ]
    },
    {
      "cell_type": "code",
      "execution_count": 5,
      "metadata": {
        "colab": {
          "base_uri": "https://localhost:8080/"
        },
        "id": "5L6o4v9cOkcl",
        "outputId": "f417f07c-d7b9-402a-ce10-1b32ce9064e0"
      },
      "outputs": [
        {
          "output_type": "stream",
          "name": "stdout",
          "text": [
            "Downloading traffic-signs-gtsrb-plus-162-custom-classes.zip to /content\n",
            "100% 15.1G/15.2G [02:38<00:00, 159MB/s]\n",
            "100% 15.2G/15.2G [02:38<00:00, 103MB/s]\n"
          ]
        }
      ],
      "source": [
        "! kaggle datasets download daniildeltsov/traffic-signs-gtsrb-plus-162-custom-classes --force\n"
      ]
    },
    {
      "cell_type": "code",
      "execution_count": null,
      "metadata": {
        "id": "te4pMQgXOrVU"
      },
      "outputs": [],
      "source": [
        "! unzip traffic-signs-gtsrb-plus-162-custom-classes.zip"
      ]
    },
    {
      "cell_type": "code",
      "execution_count": 83,
      "metadata": {
        "id": "ZnbxIdZzOub0"
      },
      "outputs": [],
      "source": [
        "import torch\n",
        "import torchvision\n",
        "from torchvision import transforms\n",
        "import torch.utils.data as data\n",
        "import torch.optim as optim\n",
        "import torch.nn as nn\n",
        "from torchsummary import summary\n",
        "import time\n",
        "import numpy as np\n",
        "import os\n",
        "import matplotlib.pyplot as plt\n",
        "from torch.utils.data import Dataset, DataLoader\n",
        "from torchvision import datasets, transforms,models\n",
        "import torch.nn as nn\n",
        "import torch.nn.functional as F\n",
        "from PIL import Image\n",
        "from pathlib import Path\n",
        "import pandas as pd\n",
        "import cv2\n",
        "\n",
        "import albumentations as A\n",
        "from albumentations.pytorch import ToTensorV2\n",
        "\n",
        "from sklearn.metrics import confusion_matrix\n",
        "from sklearn.metrics import classification_report"
      ]
    },
    {
      "cell_type": "code",
      "source": [],
      "metadata": {
        "id": "20XyZWYwC3y8"
      },
      "execution_count": null,
      "outputs": []
    },
    {
      "cell_type": "code",
      "source": [
        "# balancing\n",
        "def read_images(name_of_class):\n",
        "  %cd /content/Data_images/Train/{name_of_class}\n",
        "\n",
        "  folder_dir = f'/content/Data_images/Train/{name_of_class}/'\n",
        "  filename_list = [file.name for file in Path(folder_dir).glob('*.png')]\n",
        "  return filename_list\n",
        "\n",
        "folder = '/content/Data_images/Train/'\n",
        "subfolders = [f.name for f in Path(folder).iterdir() if f.is_dir()]\n",
        "\n",
        "amount_of_samples = []\n",
        "for i in subfolders:\n",
        "  amount_of_samples.append(len(read_images(i)))\n",
        "\n",
        "plt.figure(figsize = (45, 10))\n",
        "plt.bar(subfolders , amount_of_samples)\n",
        "plt.yticks(np.arange(0, max(amount_of_samples), step=100))\n",
        "plt.xticks(rotation = 45)\n",
        "plt.title(\"Imbalanced dataset\", fontsize = 24)\n",
        "plt.show()"
      ],
      "metadata": {
        "colab": {
          "base_uri": "https://localhost:8080/",
          "height": 1000
        },
        "id": "LQAQZYEhC38y",
        "outputId": "e74d03ad-dfec-4b79-f81f-8e85e0c178ca"
      },
      "execution_count": 124,
      "outputs": [
        {
          "output_type": "stream",
          "name": "stdout",
          "text": [
            "/content/Data_images/Train/187\n",
            "/content/Data_images/Train/70\n",
            "/content/Data_images/Train/87\n",
            "/content/Data_images/Train/157\n",
            "/content/Data_images/Train/53\n",
            "/content/Data_images/Train/179\n",
            "/content/Data_images/Train/54\n",
            "/content/Data_images/Train/127\n",
            "/content/Data_images/Train/90\n",
            "/content/Data_images/Train/120\n",
            "/content/Data_images/Train/51\n",
            "/content/Data_images/Train/62\n",
            "/content/Data_images/Train/11\n",
            "/content/Data_images/Train/13\n",
            "/content/Data_images/Train/107\n",
            "/content/Data_images/Train/89\n",
            "/content/Data_images/Train/49\n",
            "/content/Data_images/Train/121\n",
            "/content/Data_images/Train/163\n",
            "/content/Data_images/Train/166\n",
            "/content/Data_images/Train/177\n",
            "/content/Data_images/Train/80\n",
            "/content/Data_images/Train/145\n",
            "/content/Data_images/Train/203\n",
            "/content/Data_images/Train/172\n",
            "/content/Data_images/Train/114\n",
            "/content/Data_images/Train/108\n",
            "/content/Data_images/Train/56\n",
            "/content/Data_images/Train/137\n",
            "/content/Data_images/Train/158\n",
            "/content/Data_images/Train/204\n",
            "/content/Data_images/Train/35\n",
            "/content/Data_images/Train/134\n",
            "/content/Data_images/Train/133\n",
            "/content/Data_images/Train/55\n",
            "/content/Data_images/Train/139\n",
            "/content/Data_images/Train/85\n",
            "/content/Data_images/Train/29\n",
            "/content/Data_images/Train/167\n",
            "/content/Data_images/Train/115\n",
            "/content/Data_images/Train/151\n",
            "/content/Data_images/Train/149\n",
            "/content/Data_images/Train/190\n",
            "/content/Data_images/Train/143\n",
            "/content/Data_images/Train/59\n",
            "/content/Data_images/Train/73\n",
            "/content/Data_images/Train/129\n",
            "/content/Data_images/Train/126\n",
            "/content/Data_images/Train/130\n",
            "/content/Data_images/Train/9\n",
            "/content/Data_images/Train/34\n",
            "/content/Data_images/Train/183\n",
            "/content/Data_images/Train/68\n",
            "/content/Data_images/Train/18\n",
            "/content/Data_images/Train/99\n",
            "/content/Data_images/Train/186\n",
            "/content/Data_images/Train/185\n",
            "/content/Data_images/Train/200\n",
            "/content/Data_images/Train/182\n",
            "/content/Data_images/Train/52\n",
            "/content/Data_images/Train/189\n",
            "/content/Data_images/Train/109\n",
            "/content/Data_images/Train/160\n",
            "/content/Data_images/Train/169\n",
            "/content/Data_images/Train/173\n",
            "/content/Data_images/Train/135\n",
            "/content/Data_images/Train/14\n",
            "/content/Data_images/Train/106\n",
            "/content/Data_images/Train/67\n",
            "/content/Data_images/Train/61\n",
            "/content/Data_images/Train/141\n",
            "/content/Data_images/Train/178\n",
            "/content/Data_images/Train/50\n",
            "/content/Data_images/Train/116\n",
            "/content/Data_images/Train/27\n",
            "/content/Data_images/Train/153\n",
            "/content/Data_images/Train/30\n",
            "/content/Data_images/Train/148\n",
            "/content/Data_images/Train/44\n",
            "/content/Data_images/Train/81\n",
            "/content/Data_images/Train/191\n",
            "/content/Data_images/Train/3\n",
            "/content/Data_images/Train/33\n",
            "/content/Data_images/Train/98\n",
            "/content/Data_images/Train/119\n",
            "/content/Data_images/Train/180\n",
            "/content/Data_images/Train/95\n",
            "/content/Data_images/Train/16\n",
            "/content/Data_images/Train/45\n",
            "/content/Data_images/Train/142\n",
            "/content/Data_images/Train/123\n",
            "/content/Data_images/Train/164\n",
            "/content/Data_images/Train/39\n",
            "/content/Data_images/Train/22\n",
            "/content/Data_images/Train/128\n",
            "/content/Data_images/Train/71\n",
            "/content/Data_images/Train/64\n",
            "/content/Data_images/Train/96\n",
            "/content/Data_images/Train/6\n",
            "/content/Data_images/Train/40\n",
            "/content/Data_images/Train/175\n",
            "/content/Data_images/Train/92\n",
            "/content/Data_images/Train/47\n",
            "/content/Data_images/Train/58\n",
            "/content/Data_images/Train/72\n",
            "/content/Data_images/Train/2\n",
            "/content/Data_images/Train/32\n",
            "/content/Data_images/Train/41\n",
            "/content/Data_images/Train/111\n",
            "/content/Data_images/Train/57\n",
            "/content/Data_images/Train/112\n",
            "/content/Data_images/Train/0\n",
            "/content/Data_images/Train/94\n",
            "/content/Data_images/Train/24\n",
            "/content/Data_images/Train/60\n",
            "/content/Data_images/Train/144\n",
            "/content/Data_images/Train/79\n",
            "/content/Data_images/Train/20\n",
            "/content/Data_images/Train/202\n",
            "/content/Data_images/Train/5\n",
            "/content/Data_images/Train/194\n",
            "/content/Data_images/Train/8\n",
            "/content/Data_images/Train/110\n",
            "/content/Data_images/Train/48\n",
            "/content/Data_images/Train/152\n",
            "/content/Data_images/Train/26\n",
            "/content/Data_images/Train/78\n",
            "/content/Data_images/Train/105\n",
            "/content/Data_images/Train/38\n",
            "/content/Data_images/Train/122\n",
            "/content/Data_images/Train/147\n",
            "/content/Data_images/Train/140\n",
            "/content/Data_images/Train/131\n",
            "/content/Data_images/Train/88\n",
            "/content/Data_images/Train/168\n",
            "/content/Data_images/Train/17\n",
            "/content/Data_images/Train/154\n",
            "/content/Data_images/Train/25\n",
            "/content/Data_images/Train/124\n",
            "/content/Data_images/Train/199\n",
            "/content/Data_images/Train/76\n",
            "/content/Data_images/Train/83\n",
            "/content/Data_images/Train/37\n",
            "/content/Data_images/Train/36\n",
            "/content/Data_images/Train/31\n",
            "/content/Data_images/Train/170\n",
            "/content/Data_images/Train/10\n",
            "/content/Data_images/Train/93\n",
            "/content/Data_images/Train/46\n",
            "/content/Data_images/Train/74\n",
            "/content/Data_images/Train/12\n",
            "/content/Data_images/Train/197\n",
            "/content/Data_images/Train/193\n",
            "/content/Data_images/Train/184\n",
            "/content/Data_images/Train/156\n",
            "/content/Data_images/Train/102\n",
            "/content/Data_images/Train/196\n",
            "/content/Data_images/Train/198\n",
            "/content/Data_images/Train/176\n",
            "/content/Data_images/Train/28\n",
            "/content/Data_images/Train/136\n",
            "/content/Data_images/Train/15\n",
            "/content/Data_images/Train/75\n",
            "/content/Data_images/Train/117\n",
            "/content/Data_images/Train/192\n",
            "/content/Data_images/Train/125\n",
            "/content/Data_images/Train/4\n",
            "/content/Data_images/Train/97\n",
            "/content/Data_images/Train/19\n",
            "/content/Data_images/Train/103\n",
            "/content/Data_images/Train/86\n",
            "/content/Data_images/Train/201\n",
            "/content/Data_images/Train/21\n",
            "/content/Data_images/Train/104\n",
            "/content/Data_images/Train/171\n",
            "/content/Data_images/Train/101\n",
            "/content/Data_images/Train/138\n",
            "/content/Data_images/Train/77\n",
            "/content/Data_images/Train/113\n",
            "/content/Data_images/Train/118\n",
            "/content/Data_images/Train/161\n",
            "/content/Data_images/Train/195\n",
            "/content/Data_images/Train/91\n",
            "/content/Data_images/Train/82\n",
            "/content/Data_images/Train/162\n",
            "/content/Data_images/Train/69\n",
            "/content/Data_images/Train/63\n",
            "/content/Data_images/Train/43\n",
            "/content/Data_images/Train/132\n",
            "/content/Data_images/Train/66\n",
            "/content/Data_images/Train/1\n",
            "/content/Data_images/Train/165\n",
            "/content/Data_images/Train/146\n",
            "/content/Data_images/Train/159\n",
            "/content/Data_images/Train/150\n",
            "/content/Data_images/Train/23\n",
            "/content/Data_images/Train/65\n",
            "/content/Data_images/Train/7\n",
            "/content/Data_images/Train/181\n",
            "/content/Data_images/Train/188\n",
            "/content/Data_images/Train/155\n",
            "/content/Data_images/Train/174\n",
            "/content/Data_images/Train/84\n",
            "/content/Data_images/Train/100\n",
            "/content/Data_images/Train/42\n"
          ]
        },
        {
          "output_type": "display_data",
          "data": {
            "text/plain": [
              "<Figure size 3240x720 with 1 Axes>"
            ],
            "image/png": "[encoded data removed]"
          },
          "metadata": {
            "needs_background": "light"
          }
        }
      ]
    },
    {
      "cell_type": "code",
      "source": [
        "df_before_bal = pd.read_csv(\"/content/Train_data.csv\")"
      ],
      "metadata": {
        "id": "nPsAq_C0EewO"
      },
      "execution_count": 126,
      "outputs": []
    },
    {
      "cell_type": "code",
      "source": [
        "amount_by_classes = df_before_bal.groupby(by=\"ClassId\").count()\n",
        "amount_by_classes.min()"
      ],
      "metadata": {
        "colab": {
          "base_uri": "https://localhost:8080/"
        },
        "id": "y9kI00lRC3_s",
        "outputId": "7dfd0210-0abc-488f-cf1d-4b75718929bc"
      },
      "execution_count": 127,
      "outputs": [
        {
          "output_type": "execute_result",
          "data": {
            "text/plain": [
              "Unnamed: 0    173\n",
              "Path          173\n",
              "dtype: int64"
            ]
          },
          "metadata": {},
          "execution_count": 127
        }
      ]
    },
    {
      "cell_type": "code",
      "source": [
        "grouped = df_before_bal.groupby(by=\"ClassId\")[\"Path\"].apply(list)\n",
        "# grouped.apply(print)\n",
        "grouped\n"
      ],
      "metadata": {
        "id": "ysG8Mlv9C4CJ"
      },
      "execution_count": null,
      "outputs": []
    },
    {
      "cell_type": "code",
      "source": [
        "import random \n",
        "k = int(amount_by_classes.min()[0])\n",
        "randomed = []\n",
        "for i in range(len(grouped)):\n",
        "  rand_im = random.sample(list(grouped.iloc[i]), k = k )\n",
        "  randomed.append(rand_im)\n",
        "\n",
        "np.array(randomed).flatten()"
      ],
      "metadata": {
        "id": "BoOuiLBvC4Fd"
      },
      "execution_count": null,
      "outputs": []
    },
    {
      "cell_type": "code",
      "source": [
        "classes = sorted(df_before_bal[\"ClassId\"].unique())\n",
        "class_new = np.array([[classes[i]]*173 for i in classes]).flatten()\n",
        "# len(class_new)\n",
        "\n",
        "df_balanced = pd.DataFrame(data = {\"ClassId\": class_new, \"Path\":np.array(randomed).flatten()})\n",
        "# df_balanced.groupby(\"ClassId\").count().plot(kind=\"bar\")    \n",
        "# df_balanced.to_csv(\"Data_images/Train_balanced_data.csv\")\n"
      ],
      "metadata": {
        "id": "9wOjQ0wSE6Le"
      },
      "execution_count": null,
      "outputs": []
    },
    {
      "cell_type": "code",
      "source": [],
      "metadata": {
        "id": "CafT2jznFgdb"
      },
      "execution_count": null,
      "outputs": []
    },
    {
      "cell_type": "code",
      "source": [
        "# normalize transformation \n",
        "data_transforms = A.Compose([\n",
        "    A.Resize(256, 256), \n",
        "    A.HorizontalFlip(),\n",
        "    A.Normalize(\n",
        "        mean=[0.485, 0.456, 0.406],\n",
        "        std=[0.229, 0.224, 0.225],\n",
        "    ),\n",
        "    ToTensorV2()\n",
        "])\n"
      ],
      "metadata": {
        "id": "iW-7g4gmGyQf"
      },
      "execution_count": 139,
      "outputs": []
    },
    {
      "cell_type": "code",
      "execution_count": null,
      "metadata": {
        "id": "MGtCgSHGJblh"
      },
      "outputs": [],
      "source": [
        "# checking sizes\n",
        "\n",
        "df = pd.read_csv(\"/content/Train_balanced_data.csv\")"
      ]
    },
    {
      "cell_type": "code",
      "source": [
        "shapes = []\n",
        "for i in df[\"Path\"]:\n",
        "  image = cv2.imread(f'Data_images/{i}', cv2.IMREAD_COLOR)[:, :, ::-1]\n",
        "  shapes.append(image.shape[:-1])\n",
        "df[\"Shapes\"] = shapes\n"
      ],
      "metadata": {
        "id": "yRcGVX86H2OQ"
      },
      "execution_count": null,
      "outputs": []
    },
    {
      "cell_type": "code",
      "source": [
        "# df[\"Shapes\"].value_counts().head(20)\n",
        "df.drop(\"Shape_list\", axis=1, inplace=True)\n",
        "shape_amount = df.groupby(\"Shapes\").count()\n",
        "shape_amount.sort_values(by=\"Path\", ascending = False).head(20)\n"
      ],
      "metadata": {
        "colab": {
          "base_uri": "https://localhost:8080/",
          "height": 708
        },
        "id": "4XoMMom6KPIA",
        "outputId": "4e1ae2ef-f70a-4563-f089-4f2815061d62"
      },
      "execution_count": 123,
      "outputs": [
        {
          "output_type": "execute_result",
          "data": {
            "text/plain": [
              "            Unnamed: 0  ClassId  Path\n",
              "Shapes                               \n",
              "(30, 30)            74       74    74\n",
              "(33, 33)            72       72    72\n",
              "(31, 31)            71       71    71\n",
              "(29, 29)            70       70    70\n",
              "(38, 38)            66       66    66\n",
              "(33, 32)            66       66    66\n",
              "(32, 32)            65       65    65\n",
              "(118, 121)          61       61    61\n",
              "(72, 73)            58       58    58\n",
              "(106, 109)          57       57    57\n",
              "(36, 36)            57       57    57\n",
              "(88, 106)           55       55    55\n",
              "(34, 34)            55       55    55\n",
              "(100, 112)          54       54    54\n",
              "(40, 40)            54       54    54\n",
              "(34, 33)            54       54    54\n",
              "(160, 172)          54       54    54\n",
              "(175, 223)          53       53    53\n",
              "(30, 29)            53       53    53\n",
              "(73, 75)            52       52    52"
            ],
            "text/html": [
              "\n",
              "  <div id=\"df-9c2a06c2-79c2-49de-a235-10756b56d302\">\n",
              "    <div class=\"colab-df-container\">\n",
              "      <div>\n",
              "<style scoped>\n",
              "    .dataframe tbody tr th:only-of-type {\n",
              "        vertical-align: middle;\n",
              "    }\n",
              "\n",
              "    .dataframe tbody tr th {\n",
              "        vertical-align: top;\n",
              "    }\n",
              "\n",
              "    .dataframe thead th {\n",
              "        text-align: right;\n",
              "    }\n",
              "</style>\n",
              "<table border=\"1\" class=\"dataframe\">\n",
              "  <thead>\n",
              "    <tr style=\"text-align: right;\">\n",
              "      <th></th>\n",
              "      <th>Unnamed: 0</th>\n",
              "      <th>ClassId</th>\n",
              "      <th>Path</th>\n",
              "    </tr>\n",
              "    <tr>\n",
              "      <th>Shapes</th>\n",
              "      <th></th>\n",
              "      <th></th>\n",
              "      <th></th>\n",
              "    </tr>\n",
              "  </thead>\n",
              "  <tbody>\n",
              "    <tr>\n",
              "      <th>(30, 30)</th>\n",
              "      <td>74</td>\n",
              "      <td>74</td>\n",
              "      <td>74</td>\n",
              "    </tr>\n",
              "    <tr>\n",
              "      <th>(33, 33)</th>\n",
              "      <td>72</td>\n",
              "      <td>72</td>\n",
              "      <td>72</td>\n",
              "    </tr>\n",
              "    <tr>\n",
              "      <th>(31, 31)</th>\n",
              "      <td>71</td>\n",
              "      <td>71</td>\n",
              "      <td>71</td>\n",
              "    </tr>\n",
              "    <tr>\n",
              "      <th>(29, 29)</th>\n",
              "      <td>70</td>\n",
              "      <td>70</td>\n",
              "      <td>70</td>\n",
              "    </tr>\n",
              "    <tr>\n",
              "      <th>(38, 38)</th>\n",
              "      <td>66</td>\n",
              "      <td>66</td>\n",
              "      <td>66</td>\n",
              "    </tr>\n",
              "    <tr>\n",
              "      <th>(33, 32)</th>\n",
              "      <td>66</td>\n",
              "      <td>66</td>\n",
              "      <td>66</td>\n",
              "    </tr>\n",
              "    <tr>\n",
              "      <th>(32, 32)</th>\n",
              "      <td>65</td>\n",
              "      <td>65</td>\n",
              "      <td>65</td>\n",
              "    </tr>\n",
              "    <tr>\n",
              "      <th>(118, 121)</th>\n",
              "      <td>61</td>\n",
              "      <td>61</td>\n",
              "      <td>61</td>\n",
              "    </tr>\n",
              "    <tr>\n",
              "      <th>(72, 73)</th>\n",
              "      <td>58</td>\n",
              "      <td>58</td>\n",
              "      <td>58</td>\n",
              "    </tr>\n",
              "    <tr>\n",
              "      <th>(106, 109)</th>\n",
              "      <td>57</td>\n",
              "      <td>57</td>\n",
              "      <td>57</td>\n",
              "    </tr>\n",
              "    <tr>\n",
              "      <th>(36, 36)</th>\n",
              "      <td>57</td>\n",
              "      <td>57</td>\n",
              "      <td>57</td>\n",
              "    </tr>\n",
              "    <tr>\n",
              "      <th>(88, 106)</th>\n",
              "      <td>55</td>\n",
              "      <td>55</td>\n",
              "      <td>55</td>\n",
              "    </tr>\n",
              "    <tr>\n",
              "      <th>(34, 34)</th>\n",
              "      <td>55</td>\n",
              "      <td>55</td>\n",
              "      <td>55</td>\n",
              "    </tr>\n",
              "    <tr>\n",
              "      <th>(100, 112)</th>\n",
              "      <td>54</td>\n",
              "      <td>54</td>\n",
              "      <td>54</td>\n",
              "    </tr>\n",
              "    <tr>\n",
              "      <th>(40, 40)</th>\n",
              "      <td>54</td>\n",
              "      <td>54</td>\n",
              "      <td>54</td>\n",
              "    </tr>\n",
              "    <tr>\n",
              "      <th>(34, 33)</th>\n",
              "      <td>54</td>\n",
              "      <td>54</td>\n",
              "      <td>54</td>\n",
              "    </tr>\n",
              "    <tr>\n",
              "      <th>(160, 172)</th>\n",
              "      <td>54</td>\n",
              "      <td>54</td>\n",
              "      <td>54</td>\n",
              "    </tr>\n",
              "    <tr>\n",
              "      <th>(175, 223)</th>\n",
              "      <td>53</td>\n",
              "      <td>53</td>\n",
              "      <td>53</td>\n",
              "    </tr>\n",
              "    <tr>\n",
              "      <th>(30, 29)</th>\n",
              "      <td>53</td>\n",
              "      <td>53</td>\n",
              "      <td>53</td>\n",
              "    </tr>\n",
              "    <tr>\n",
              "      <th>(73, 75)</th>\n",
              "      <td>52</td>\n",
              "      <td>52</td>\n",
              "      <td>52</td>\n",
              "    </tr>\n",
              "  </tbody>\n",
              "</table>\n",
              "</div>\n",
              "      <button class=\"colab-df-convert\" onclick=\"convertToInteractive('df-9c2a06c2-79c2-49de-a235-10756b56d302')\"\n",
              "              title=\"Convert this dataframe to an interactive table.\"\n",
              "              style=\"display:none;\">\n",
              "        \n",
              "  <svg xmlns=\"http://www.w3.org/2000/svg\" height=\"24px\"viewBox=\"0 0 24 24\"\n",
              "       width=\"24px\">\n",
              "    <path d=\"M0 0h24v24H0V0z\" fill=\"none\"/>\n",
              "    <path d=\"M18.56 5.44l.94 2.06.94-2.06 2.06-.94-2.06-.94-.94-2.06-.94 2.06-2.06.94zm-11 1L8.5 8.5l.94-2.06 2.06-.94-2.06-.94L8.5 2.5l-.94 2.06-2.06.94zm10 10l.94 2.06.94-2.06 2.06-.94-2.06-.94-.94-2.06-.94 2.06-2.06.94z\"/><path d=\"M17.41 7.96l-1.37-1.37c-.4-.4-.92-.59-1.43-.59-.52 0-1.04.2-1.43.59L10.3 9.45l-7.72 7.72c-.78.78-.78 2.05 0 2.83L4 21.41c.39.39.9.59 1.41.59.51 0 1.02-.2 1.41-.59l7.78-7.78 2.81-2.81c.8-.78.8-2.07 0-2.86zM5.41 20L4 18.59l7.72-7.72 1.47 1.35L5.41 20z\"/>\n",
              "  </svg>\n",
              "      </button>\n",
              "      \n",
              "  <style>\n",
              "    .colab-df-container {\n",
              "      display:flex;\n",
              "      flex-wrap:wrap;\n",
              "      gap: 12px;\n",
              "    }\n",
              "\n",
              "    .colab-df-convert {\n",
              "      background-color: #E8F0FE;\n",
              "      border: none;\n",
              "      border-radius: 50%;\n",
              "      cursor: pointer;\n",
              "      display: none;\n",
              "      fill: #1967D2;\n",
              "      height: 32px;\n",
              "      padding: 0 0 0 0;\n",
              "      width: 32px;\n",
              "    }\n",
              "\n",
              "    .colab-df-convert:hover {\n",
              "      background-color: #E2EBFA;\n",
              "      box-shadow: 0px 1px 2px rgba(60, 64, 67, 0.3), 0px 1px 3px 1px rgba(60, 64, 67, 0.15);\n",
              "      fill: #174EA6;\n",
              "    }\n",
              "\n",
              "    [theme=dark] .colab-df-convert {\n",
              "      background-color: #3B4455;\n",
              "      fill: #D2E3FC;\n",
              "    }\n",
              "\n",
              "    [theme=dark] .colab-df-convert:hover {\n",
              "      background-color: #434B5C;\n",
              "      box-shadow: 0px 1px 3px 1px rgba(0, 0, 0, 0.15);\n",
              "      filter: drop-shadow(0px 1px 2px rgba(0, 0, 0, 0.3));\n",
              "      fill: #FFFFFF;\n",
              "    }\n",
              "  </style>\n",
              "\n",
              "      <script>\n",
              "        const buttonEl =\n",
              "          document.querySelector('#df-9c2a06c2-79c2-49de-a235-10756b56d302 button.colab-df-convert');\n",
              "        buttonEl.style.display =\n",
              "          google.colab.kernel.accessAllowed ? 'block' : 'none';\n",
              "\n",
              "        async function convertToInteractive(key) {\n",
              "          const element = document.querySelector('#df-9c2a06c2-79c2-49de-a235-10756b56d302');\n",
              "          const dataTable =\n",
              "            await google.colab.kernel.invokeFunction('convertToInteractive',\n",
              "                                                     [key], {});\n",
              "          if (!dataTable) return;\n",
              "\n",
              "          const docLinkHtml = 'Like what you see? Visit the ' +\n",
              "            '<a target=\"_blank\" href=https://colab.research.google.com/notebooks/data_table.ipynb>data table notebook</a>'\n",
              "            + ' to learn more about interactive tables.';\n",
              "          element.innerHTML = '';\n",
              "          dataTable['output_type'] = 'display_data';\n",
              "          await google.colab.output.renderOutput(dataTable, element);\n",
              "          const docLink = document.createElement('div');\n",
              "          docLink.innerHTML = docLinkHtml;\n",
              "          element.appendChild(docLink);\n",
              "        }\n",
              "      </script>\n",
              "    </div>\n",
              "  </div>\n",
              "  "
            ]
          },
          "metadata": {},
          "execution_count": 123
        }
      ]
    },
    {
      "cell_type": "code",
      "source": [
        "df_shape_amount = pd.DataFrame( {\"Shape\":df.groupby(\"Shapes\")[\"Path\"].groups.keys(), \n",
        "                                 \"Shape_amount\":df.groupby(\"Shapes\")[\"Path\"].count().sort_values(ascending = False)} )\n",
        "df_shape_amount.plot(kind=\"bar\", rot=90)\n"
      ],
      "metadata": {
        "colab": {
          "base_uri": "https://localhost:8080/",
          "height": 351
        },
        "id": "8RVNi14LHlvq",
        "outputId": "0fb47322-1ff3-49aa-c853-cca7062d87bb"
      },
      "execution_count": 142,
      "outputs": [
        {
          "output_type": "execute_result",
          "data": {
            "text/plain": [
              "<matplotlib.axes._subplots.AxesSubplot at 0x7fb102566f10>"
            ]
          },
          "metadata": {},
          "execution_count": 142
        },
        {
          "output_type": "display_data",
          "data": {
            "text/plain": [
              "<Figure size 432x288 with 1 Axes>"
            ],
            "image/png": "[encoded data removed]"
          },
          "metadata": {
            "needs_background": "light"
          }
        }
      ]
    },
    {
      "cell_type": "code",
      "source": [],
      "metadata": {
        "id": "W9N3dHTVHlzM"
      },
      "execution_count": null,
      "outputs": []
    },
    {
      "cell_type": "code",
      "execution_count": 147,
      "metadata": {
        "id": "Qw2qY3reQLbl"
      },
      "outputs": [],
      "source": [
        "device = torch.device('cuda')\n",
        "device=torch.device(device)"
      ]
    },
    {
      "cell_type": "code",
      "execution_count": 148,
      "metadata": {
        "id": "g6-OWfKVQQ-9"
      },
      "outputs": [],
      "source": [
        "import gc\n",
        "\n",
        "gc.collect()\n",
        "\n",
        "torch.cuda.empty_cache()"
      ]
    },
    {
      "cell_type": "code",
      "execution_count": 149,
      "metadata": {
        "id": "n3acl0O7QUc1"
      },
      "outputs": [],
      "source": [
        "BATCH_SIZE = 64\n",
        "learning_rate = 0.0001\n",
        "EPOCHS = 5\n",
        "numClasses = 205"
      ]
    },
    {
      "cell_type": "code",
      "execution_count": 143,
      "metadata": {
        "id": "1Gu7p7qbQX3_"
      },
      "outputs": [],
      "source": [
        "class TrafficData(Dataset):\n",
        "    def __init__(self, df, image_dir, transforms=None):\n",
        "        self.image_ids = df['Path'].unique()\n",
        "        self.df = df\n",
        "        self.image_dir = image_dir\n",
        "        self.transforms = transforms\n",
        "\n",
        "    def __getitem__(self, index, size = [112, 112]):\n",
        "        image_path = self.image_ids[index]\n",
        "        records = self.df[self.df['Path'] == image_path]\n",
        "\n",
        "        #print(f'{self.image_dir}/{image_path}')\n",
        "        image = cv2.imread(f'{self.image_dir}/{image_path}', cv2.IMREAD_COLOR)\n",
        "        image = cv2.cvtColor(image, cv2.COLOR_BGR2RGB)\n",
        "        image = cv2.resize(image, size)\n",
        "        image = image.astype(float) / 255.0\n",
        "\n",
        "        target = records['ClassId'].values\n",
        "\n",
        "        if self.transforms:\n",
        "            image = self.transforms(**image)\n",
        "\n",
        "        return image, target\n",
        "\n",
        "    def __len__(self) -> int:\n",
        "        return self.image_ids.shape[0]\n",
        "\n",
        "    @staticmethod\n",
        "    def create_dataset(df, dir, transform=None):\n",
        "       dataset = TrafficData(df, dir)\n",
        "       return dataset\n",
        "\n",
        "    @staticmethod \n",
        "    def loader(dataset, batch_size, num_workers=0):\n",
        "       data_loader = DataLoader(\n",
        "          dataset,\n",
        "          batch_size=batch_size,\n",
        "          shuffle=True,\n",
        "          num_workers=num_workers,\n",
        "#           collate_fn = collate_fn\n",
        "      )\n",
        "       return data_loader"
      ]
    },
    {
      "cell_type": "code",
      "execution_count": 144,
      "metadata": {
        "id": "F17p5ArCQc2X"
      },
      "outputs": [],
      "source": [
        "path = Path(\"Data_images\")\n"
      ]
    },
    {
      "cell_type": "code",
      "execution_count": null,
      "metadata": {
        "id": "TcKe2ej9RQPD",
        "colab": {
          "base_uri": "https://localhost:8080/",
          "height": 206
        },
        "outputId": "00f41f8f-58c2-432d-e4a7-f511c5bf1d53"
      },
      "outputs": [
        {
          "output_type": "execute_result",
          "data": {
            "text/plain": [
              "      ClassId               Path\n",
              "42775     111  Test/111_6_33.png\n",
              "31297     114  Test/114_2_33.png\n",
              "32936     164   Test/164_5_2.png\n",
              "16500     201  Test/201_7_26.png\n",
              "13026      27     Test/02748.png"
            ],
            "text/html": [
              "\n",
              "  <div id=\"df-314b8dae-b16e-4d22-bb85-815964370f4e\">\n",
              "    <div class=\"colab-df-container\">\n",
              "      <div>\n",
              "<style scoped>\n",
              "    .dataframe tbody tr th:only-of-type {\n",
              "        vertical-align: middle;\n",
              "    }\n",
              "\n",
              "    .dataframe tbody tr th {\n",
              "        vertical-align: top;\n",
              "    }\n",
              "\n",
              "    .dataframe thead th {\n",
              "        text-align: right;\n",
              "    }\n",
              "</style>\n",
              "<table border=\"1\" class=\"dataframe\">\n",
              "  <thead>\n",
              "    <tr style=\"text-align: right;\">\n",
              "      <th></th>\n",
              "      <th>ClassId</th>\n",
              "      <th>Path</th>\n",
              "    </tr>\n",
              "  </thead>\n",
              "  <tbody>\n",
              "    <tr>\n",
              "      <th>42775</th>\n",
              "      <td>111</td>\n",
              "      <td>Test/111_6_33.png</td>\n",
              "    </tr>\n",
              "    <tr>\n",
              "      <th>31297</th>\n",
              "      <td>114</td>\n",
              "      <td>Test/114_2_33.png</td>\n",
              "    </tr>\n",
              "    <tr>\n",
              "      <th>32936</th>\n",
              "      <td>164</td>\n",
              "      <td>Test/164_5_2.png</td>\n",
              "    </tr>\n",
              "    <tr>\n",
              "      <th>16500</th>\n",
              "      <td>201</td>\n",
              "      <td>Test/201_7_26.png</td>\n",
              "    </tr>\n",
              "    <tr>\n",
              "      <th>13026</th>\n",
              "      <td>27</td>\n",
              "      <td>Test/02748.png</td>\n",
              "    </tr>\n",
              "  </tbody>\n",
              "</table>\n",
              "</div>\n",
              "      <button class=\"colab-df-convert\" onclick=\"convertToInteractive('df-314b8dae-b16e-4d22-bb85-815964370f4e')\"\n",
              "              title=\"Convert this dataframe to an interactive table.\"\n",
              "              style=\"display:none;\">\n",
              "        \n",
              "  <svg xmlns=\"http://www.w3.org/2000/svg\" height=\"24px\"viewBox=\"0 0 24 24\"\n",
              "       width=\"24px\">\n",
              "    <path d=\"M0 0h24v24H0V0z\" fill=\"none\"/>\n",
              "    <path d=\"M18.56 5.44l.94 2.06.94-2.06 2.06-.94-2.06-.94-.94-2.06-.94 2.06-2.06.94zm-11 1L8.5 8.5l.94-2.06 2.06-.94-2.06-.94L8.5 2.5l-.94 2.06-2.06.94zm10 10l.94 2.06.94-2.06 2.06-.94-2.06-.94-.94-2.06-.94 2.06-2.06.94z\"/><path d=\"M17.41 7.96l-1.37-1.37c-.4-.4-.92-.59-1.43-.59-.52 0-1.04.2-1.43.59L10.3 9.45l-7.72 7.72c-.78.78-.78 2.05 0 2.83L4 21.41c.39.39.9.59 1.41.59.51 0 1.02-.2 1.41-.59l7.78-7.78 2.81-2.81c.8-.78.8-2.07 0-2.86zM5.41 20L4 18.59l7.72-7.72 1.47 1.35L5.41 20z\"/>\n",
              "  </svg>\n",
              "      </button>\n",
              "      \n",
              "  <style>\n",
              "    .colab-df-container {\n",
              "      display:flex;\n",
              "      flex-wrap:wrap;\n",
              "      gap: 12px;\n",
              "    }\n",
              "\n",
              "    .colab-df-convert {\n",
              "      background-color: #E8F0FE;\n",
              "      border: none;\n",
              "      border-radius: 50%;\n",
              "      cursor: pointer;\n",
              "      display: none;\n",
              "      fill: #1967D2;\n",
              "      height: 32px;\n",
              "      padding: 0 0 0 0;\n",
              "      width: 32px;\n",
              "    }\n",
              "\n",
              "    .colab-df-convert:hover {\n",
              "      background-color: #E2EBFA;\n",
              "      box-shadow: 0px 1px 2px rgba(60, 64, 67, 0.3), 0px 1px 3px 1px rgba(60, 64, 67, 0.15);\n",
              "      fill: #174EA6;\n",
              "    }\n",
              "\n",
              "    [theme=dark] .colab-df-convert {\n",
              "      background-color: #3B4455;\n",
              "      fill: #D2E3FC;\n",
              "    }\n",
              "\n",
              "    [theme=dark] .colab-df-convert:hover {\n",
              "      background-color: #434B5C;\n",
              "      box-shadow: 0px 1px 3px 1px rgba(0, 0, 0, 0.15);\n",
              "      filter: drop-shadow(0px 1px 2px rgba(0, 0, 0, 0.3));\n",
              "      fill: #FFFFFF;\n",
              "    }\n",
              "  </style>\n",
              "\n",
              "      <script>\n",
              "        const buttonEl =\n",
              "          document.querySelector('#df-314b8dae-b16e-4d22-bb85-815964370f4e button.colab-df-convert');\n",
              "        buttonEl.style.display =\n",
              "          google.colab.kernel.accessAllowed ? 'block' : 'none';\n",
              "\n",
              "        async function convertToInteractive(key) {\n",
              "          const element = document.querySelector('#df-314b8dae-b16e-4d22-bb85-815964370f4e');\n",
              "          const dataTable =\n",
              "            await google.colab.kernel.invokeFunction('convertToInteractive',\n",
              "                                                     [key], {});\n",
              "          if (!dataTable) return;\n",
              "\n",
              "          const docLinkHtml = 'Like what you see? Visit the ' +\n",
              "            '<a target=\"_blank\" href=https://colab.research.google.com/notebooks/data_table.ipynb>data table notebook</a>'\n",
              "            + ' to learn more about interactive tables.';\n",
              "          element.innerHTML = '';\n",
              "          dataTable['output_type'] = 'display_data';\n",
              "          await google.colab.output.renderOutput(dataTable, element);\n",
              "          const docLink = document.createElement('div');\n",
              "          docLink.innerHTML = docLinkHtml;\n",
              "          element.appendChild(docLink);\n",
              "        }\n",
              "      </script>\n",
              "    </div>\n",
              "  </div>\n",
              "  "
            ]
          },
          "metadata": {},
          "execution_count": 14
        }
      ],
      "source": [
        "df_test_messy = pd.read_csv('/content/Data_images/Test_data.csv')\n",
        "df_test = pd.DataFrame(columns=['ClassId', 'Path'])\n",
        "\n",
        "test_path = path / 'Test'\n",
        "for pic in test_path.glob(\"*\"):\n",
        "    name = str(pic)[len(str(test_path)) + 1:]\n",
        "    row = df_test_messy[df_test_messy['Path'] == f'Test/{name}']\n",
        "    df_test = pd.concat([df_test, row])\n",
        "\n",
        "df_test.to_csv(\"Test_data_cleaned.csv\")\n",
        "df_test.head()\n"
      ]
    },
    {
      "cell_type": "code",
      "execution_count": null,
      "metadata": {
        "id": "u8gcVgyrQihl"
      },
      "outputs": [],
      "source": [
        "# df_train = pd.read_csv(\"/content/Train_data_extended.csv\")\n",
        "# df_test = pd.read_csv(\"/content/Test_data_reduced.csv\")\n"
      ]
    },
    {
      "cell_type": "code",
      "execution_count": null,
      "metadata": {
        "id": "iJWE9kB2Q0fv"
      },
      "outputs": [],
      "source": [
        "df_train_ = pd.read_csv(\"/content/Train_balanced_data.csv\")\n",
        "df_test = pd.read_csv(\"/content/Test_data_cleaned.csv\")\n"
      ]
    },
    {
      "cell_type": "code",
      "source": [
        "df_trained = df_train_.sample(frac=1).reset_index(drop=True)\n",
        "# df_trained.to_csv(\"Train_data_balance_shuf.csv\")"
      ],
      "metadata": {
        "id": "6FGaGHq78cC_"
      },
      "execution_count": null,
      "outputs": []
    },
    {
      "cell_type": "code",
      "source": [
        "df_train_new = pd.read_csv(\"Train_data_balance_shuf.csv\")\n",
        "df_train_new"
      ],
      "metadata": {
        "id": "sjp1RPc09C7-"
      },
      "execution_count": null,
      "outputs": []
    },
    {
      "cell_type": "code",
      "source": [
        "df_train = df_train_new.iloc[0:int(len(df_train_new) * 0.8), :]\n",
        "df_valid = df_train_new.iloc[int(len(df_train_new) * 0.8):, :]\n",
        "\n",
        "df_train.drop(\"Unnamed: 0.1\", axis=1, inplace= True)\n",
        "df_train.drop(\"Unnamed: 0\", axis=1, inplace= True)\n",
        "\n",
        "df_valid.drop(\"Unnamed: 0.1\", axis=1, inplace= True)\n",
        "df_valid.drop(\"Unnamed: 0\", axis=1, inplace= True)\n"
      ],
      "metadata": {
        "id": "1FZZqcAu4j-U"
      },
      "execution_count": null,
      "outputs": []
    },
    {
      "cell_type": "code",
      "execution_count": null,
      "metadata": {
        "id": "jcdwP-5V5oNr"
      },
      "outputs": [],
      "source": [
        "train_data = TrafficData.create_dataset(df_train, path, data_transforms)\n",
        "train_data_loader = TrafficData.loader(train_data, BATCH_SIZE)\n",
        "\n",
        "test_data = TrafficData.create_dataset(df_test, path, data_transforms)\n",
        "test_data_loader = TrafficData.loader(test_data, BATCH_SIZE)\n",
        "\n",
        "valid_data = TrafficData.create_dataset(df_valid, path, data_transforms)\n",
        "valid_data_loader = TrafficData.loader(valid_data, BATCH_SIZE)"
      ]
    },
    {
      "cell_type": "code",
      "execution_count": null,
      "metadata": {
        "id": "IwozE-ERWpcC"
      },
      "outputs": [],
      "source": [
        "images, targets = next(iter(test_data_loader))\n"
      ]
    },
    {
      "cell_type": "code",
      "execution_count": null,
      "metadata": {
        "colab": {
          "base_uri": "https://localhost:8080/"
        },
        "id": "YBrsCL4VWsh5",
        "outputId": "a501e15a-5e12-4c29-9db0-2c41a19ac89b"
      },
      "outputs": [
        {
          "output_type": "stream",
          "name": "stdout",
          "text": [
            "Shape of X [N, C, H, W]: torch.Size([64, 112, 112, 3])\n",
            "Shape of y: torch.Size([64, 1]) torch.int64\n"
          ]
        }
      ],
      "source": [
        "for X, y in test_data_loader:\n",
        "    print(f\"Shape of X [N, C, H, W]: {X.shape}\")\n",
        "    print(f\"Shape of y: {y.shape} {y.dtype}\")\n",
        "    break"
      ]
    },
    {
      "cell_type": "code",
      "execution_count": null,
      "metadata": {
        "id": "F7ZPXR06WwCf"
      },
      "outputs": [],
      "source": [
        "def count_parameters(model):\n",
        "    return sum(p.numel() for p in model.parameters() if p.requires_grad)"
      ]
    },
    {
      "cell_type": "code",
      "execution_count": null,
      "metadata": {
        "colab": {
          "base_uri": "https://localhost:8080/"
        },
        "id": "3PBnyIGhW0J-",
        "outputId": "b8e5b64f-649f-4c16-80de-fcc2d3238e0d"
      },
      "outputs": [
        {
          "output_type": "stream",
          "name": "stderr",
          "text": [
            "/usr/local/lib/python3.7/dist-packages/torchvision/models/_utils.py:209: UserWarning: The parameter 'pretrained' is deprecated since 0.13 and will be removed in 0.15, please use 'weights' instead.\n",
            "  f\"The parameter '{pretrained_param}' is deprecated since 0.13 and will be removed in 0.15, \"\n",
            "/usr/local/lib/python3.7/dist-packages/torchvision/models/_utils.py:223: UserWarning: Arguments other than a weight enum or `None` for 'weights' are deprecated since 0.13 and will be removed in 0.15. The current behavior is equivalent to passing `weights=EfficientNet_B0_Weights.IMAGENET1K_V1`. You can also use `weights=EfficientNet_B0_Weights.DEFAULT` to get the most up-to-date weights.\n",
            "  warnings.warn(msg)\n"
          ]
        }
      ],
      "source": [
        "eff_net_b0 = models.efficientnet_b0(pretrained=True)\n",
        "\n",
        "class Eff_net(nn.Module):\n",
        "    def __init__(self, pretrained_model):\n",
        "        super(Eff_net,self).__init__()\n",
        "        self.Eff_net = pretrained_model\n",
        "        #num_inputs = pretrained_model.classifier[1].in_features\n",
        "        self.fl1 = nn.Linear(1000, 256)\n",
        "        self.fl2 = nn.Linear(256, numClasses)\n",
        "        \n",
        "    def forward(self, X):\n",
        "        X = self.Eff_net(X)\n",
        "        X = F.relu(self.fl1(X))\n",
        "        X = F.dropout(X, p=0.25)\n",
        "        X = self.fl2(X)\n",
        "        return X"
      ]
    },
    {
      "cell_type": "code",
      "execution_count": null,
      "metadata": {
        "id": "GIGDHz7CW3T-"
      },
      "outputs": [],
      "source": [
        "model = Eff_net(eff_net_b0)\n"
      ]
    },
    {
      "cell_type": "code",
      "execution_count": null,
      "metadata": {
        "id": "ce6cxXV5W7Ko"
      },
      "outputs": [],
      "source": [
        "optimizer = optim.Adam(model.parameters(), lr=learning_rate)\n",
        "criterion = nn.CrossEntropyLoss()"
      ]
    },
    {
      "cell_type": "code",
      "execution_count": null,
      "metadata": {
        "id": "jAWam1bCW-Mp"
      },
      "outputs": [],
      "source": [
        "if torch.cuda.is_available():\n",
        "    model = model.cuda()\n",
        "    criterion = criterion.cuda()"
      ]
    },
    {
      "cell_type": "code",
      "execution_count": null,
      "metadata": {
        "id": "bzTvn3jSXBJm"
      },
      "outputs": [],
      "source": [
        "def calculate_accuracy(y_pred, y):\n",
        "    top_pred = y_pred.argmax(1, keepdim = True)\n",
        "    correct = top_pred.eq(y.view_as(top_pred)).sum()\n",
        "    acc = correct.float() / y.shape[0]\n",
        "    return acc"
      ]
    },
    {
      "cell_type": "code",
      "execution_count": null,
      "metadata": {
        "id": "pdBY0rHTXD9w"
      },
      "outputs": [],
      "source": [
        "def train(model, loader, opt, criterion):\n",
        "    epoch_loss = 0\n",
        "    epoch_acc = 0\n",
        "\n",
        "    model.train()\n",
        "    \n",
        "    for (images, labels) in loader:\n",
        "        images = images.permute(0,3,1,2)\n",
        "        images = images.float()\n",
        "        labels = torch.reshape(labels, (-1,))\n",
        "        images = images.cuda()\n",
        "        labels = labels.cuda()\n",
        "        \n",
        "        opt.zero_grad()\n",
        "        \n",
        "        output = model(images)\n",
        "        loss = criterion(output, labels)\n",
        "        \n",
        "\n",
        "        loss.backward()\n",
        "        \n",
        "        acc = calculate_accuracy(output, labels)\n",
        "        \n",
        "        opt.step()\n",
        "        \n",
        "        epoch_loss += loss.item()\n",
        "        epoch_acc += acc.item()\n",
        "        \n",
        "    return epoch_loss / len(loader), epoch_acc / len(loader)"
      ]
    },
    {
      "cell_type": "code",
      "execution_count": null,
      "metadata": {
        "id": "wFGjj_5MXHxJ"
      },
      "outputs": [],
      "source": [
        "def evaluate(model, loader, opt, criterion):\n",
        "    epoch_loss = 0\n",
        "    epoch_acc = 0\n",
        "    \n",
        "    model.eval()\n",
        "    \n",
        "    with torch.no_grad():\n",
        "        for (images, labels) in loader:\n",
        "            images = images.permute(0,3,1,2)\n",
        "            images = images.float()\n",
        "            labels = torch.reshape(labels, (-1,))\n",
        "            images = images.cuda()\n",
        "            labels = labels.cuda()\n",
        "            \n",
        "            output = model(images)\n",
        "            loss = criterion(output, labels)\n",
        "            \n",
        "            acc = calculate_accuracy(output, labels)\n",
        "            \n",
        "            epoch_loss += loss.item()\n",
        "            epoch_acc += acc.item()\n",
        "    \n",
        "    return epoch_loss / len(loader), epoch_acc / len(loader)"
      ]
    },
    {
      "cell_type": "code",
      "execution_count": null,
      "metadata": {
        "colab": {
          "base_uri": "https://localhost:8080/"
        },
        "id": "ZmKazj41XKze",
        "outputId": "9ea22c6b-166a-40e1-fb6c-c76776e6c2b1"
      },
      "outputs": [
        {
          "output_type": "stream",
          "name": "stdout",
          "text": [
            "Epoch-0: \n",
            "Training: Loss = 2.7128, Accuracy = 0.4306, Time = 279.16 seconds\n",
            "Validation: Loss = 0.4884, Accuracy = 0.8669, Time = 42.66 seconds\n",
            "\n",
            "Epoch-1: \n",
            "Training: Loss = 0.3629, Accuracy = 0.9005, Time = 262.79 seconds\n",
            "Validation: Loss = 0.1179, Accuracy = 0.9638, Time = 38.32 seconds\n",
            "\n",
            "Epoch-2: \n",
            "Training: Loss = 0.1305, Accuracy = 0.9655, Time = 245.78 seconds\n",
            "Validation: Loss = 0.0554, Accuracy = 0.9834, Time = 36.60 seconds\n",
            "\n",
            "Epoch-3: \n",
            "Training: Loss = 0.0681, Accuracy = 0.9819, Time = 244.05 seconds\n",
            "Validation: Loss = 0.0362, Accuracy = 0.9886, Time = 36.76 seconds\n",
            "\n",
            "Epoch-4: \n",
            "Training: Loss = 0.0443, Accuracy = 0.9883, Time = 243.18 seconds\n",
            "Validation: Loss = 0.0304, Accuracy = 0.9918, Time = 36.24 seconds\n",
            "\n"
          ]
        }
      ],
      "source": [
        "train_loss_list = [0]*EPOCHS\n",
        "train_acc_list = [0]*EPOCHS\n",
        "val_loss_list = [0]*EPOCHS\n",
        "val_acc_list = [0]*EPOCHS\n",
        "\n",
        "for epoch in range(EPOCHS):\n",
        "    print(\"Epoch-%d: \" % (epoch))\n",
        "\n",
        "    train_start_time = time.monotonic()\n",
        "    train_loss, train_acc = train(model, train_data_loader, optimizer, criterion)\n",
        "    train_end_time = time.monotonic()\n",
        "\n",
        "    val_start_time = time.monotonic()\n",
        "    val_loss, val_acc = evaluate(model, valid_data_loader, optimizer, criterion)\n",
        "    val_end_time = time.monotonic()\n",
        "    \n",
        "    train_loss_list[epoch] = train_loss\n",
        "    train_acc_list[epoch] = train_acc\n",
        "    val_loss_list[epoch] = val_loss\n",
        "    val_acc_list[epoch] = val_acc\n",
        "    \n",
        "    print(\"Training: Loss = %.4f, Accuracy = %.4f, Time = %.2f seconds\" % (train_loss, train_acc, train_end_time - train_start_time))\n",
        "    print(\"Validation: Loss = %.4f, Accuracy = %.4f, Time = %.2f seconds\" % (val_loss, val_acc, val_end_time - val_start_time))\n",
        "    print(\"\")\n",
        "\n",
        "\n",
        "PATH = 'model_0.pth'\n",
        "torch.save(model.state_dict(), PATH)"
      ]
    },
    {
      "cell_type": "code",
      "execution_count": null,
      "metadata": {
        "id": "Fb4DOd7KWwSL"
      },
      "outputs": [],
      "source": [
        "# model = Eff_net(eff_net_b0)\n",
        "# model.load_state_dict(torch.load(PATH))\n",
        "# model.eval()"
      ]
    },
    {
      "cell_type": "code",
      "source": [
        "model.load_state_dict(torch.load(PATH))\n",
        "\n",
        "test_loss, test_acc = evaluate(model, test_data_loader, optimizer, criterion)\n",
        "\n",
        "print(f'Test Loss: {test_loss:.3f} | Test Acc: {test_acc*100:.2f}%')"
      ],
      "metadata": {
        "colab": {
          "base_uri": "https://localhost:8080/"
        },
        "id": "TZ-8OQOS4NiX",
        "outputId": "925b56ca-0876-4317-a653-1b9f984fbb99"
      },
      "execution_count": null,
      "outputs": [
        {
          "output_type": "stream",
          "name": "stdout",
          "text": [
            "Test Loss: 0.165 | Test Acc: 95.83%\n"
          ]
        }
      ]
    },
    {
      "cell_type": "code",
      "source": [],
      "metadata": {
        "id": "FOgIIC5NLGqe"
      },
      "execution_count": null,
      "outputs": []
    },
    {
      "cell_type": "code",
      "source": [],
      "metadata": {
        "id": "A88klc8jFTHV"
      },
      "execution_count": null,
      "outputs": []
    },
    {
      "cell_type": "code",
      "execution_count": null,
      "metadata": {
        "colab": {
          "base_uri": "https://localhost:8080/",
          "height": 206
        },
        "id": "K7o5zDne5omy",
        "outputId": "3b2112c5-9e90-4940-ee9d-3aa59a09bae7"
      },
      "outputs": [
        {
          "output_type": "execute_result",
          "data": {
            "text/plain": [
              "   ClassId               Path\n",
              "0        4     Test/03510.png\n",
              "1      156  Test/156_7_20.png\n",
              "2       57   Test/57_3_29.png\n",
              "3       76   Test/76_7_26.png\n",
              "4       15     Test/12248.png"
            ],
            "text/html": [
              "\n",
              "  <div id=\"df-cc826cc8-330b-498e-a90b-622b06858ace\">\n",
              "    <div class=\"colab-df-container\">\n",
              "      <div>\n",
              "<style scoped>\n",
              "    .dataframe tbody tr th:only-of-type {\n",
              "        vertical-align: middle;\n",
              "    }\n",
              "\n",
              "    .dataframe tbody tr th {\n",
              "        vertical-align: top;\n",
              "    }\n",
              "\n",
              "    .dataframe thead th {\n",
              "        text-align: right;\n",
              "    }\n",
              "</style>\n",
              "<table border=\"1\" class=\"dataframe\">\n",
              "  <thead>\n",
              "    <tr style=\"text-align: right;\">\n",
              "      <th></th>\n",
              "      <th>ClassId</th>\n",
              "      <th>Path</th>\n",
              "    </tr>\n",
              "  </thead>\n",
              "  <tbody>\n",
              "    <tr>\n",
              "      <th>0</th>\n",
              "      <td>4</td>\n",
              "      <td>Test/03510.png</td>\n",
              "    </tr>\n",
              "    <tr>\n",
              "      <th>1</th>\n",
              "      <td>156</td>\n",
              "      <td>Test/156_7_20.png</td>\n",
              "    </tr>\n",
              "    <tr>\n",
              "      <th>2</th>\n",
              "      <td>57</td>\n",
              "      <td>Test/57_3_29.png</td>\n",
              "    </tr>\n",
              "    <tr>\n",
              "      <th>3</th>\n",
              "      <td>76</td>\n",
              "      <td>Test/76_7_26.png</td>\n",
              "    </tr>\n",
              "    <tr>\n",
              "      <th>4</th>\n",
              "      <td>15</td>\n",
              "      <td>Test/12248.png</td>\n",
              "    </tr>\n",
              "  </tbody>\n",
              "</table>\n",
              "</div>\n",
              "      <button class=\"colab-df-convert\" onclick=\"convertToInteractive('df-cc826cc8-330b-498e-a90b-622b06858ace')\"\n",
              "              title=\"Convert this dataframe to an interactive table.\"\n",
              "              style=\"display:none;\">\n",
              "        \n",
              "  <svg xmlns=\"http://www.w3.org/2000/svg\" height=\"24px\"viewBox=\"0 0 24 24\"\n",
              "       width=\"24px\">\n",
              "    <path d=\"M0 0h24v24H0V0z\" fill=\"none\"/>\n",
              "    <path d=\"M18.56 5.44l.94 2.06.94-2.06 2.06-.94-2.06-.94-.94-2.06-.94 2.06-2.06.94zm-11 1L8.5 8.5l.94-2.06 2.06-.94-2.06-.94L8.5 2.5l-.94 2.06-2.06.94zm10 10l.94 2.06.94-2.06 2.06-.94-2.06-.94-.94-2.06-.94 2.06-2.06.94z\"/><path d=\"M17.41 7.96l-1.37-1.37c-.4-.4-.92-.59-1.43-.59-.52 0-1.04.2-1.43.59L10.3 9.45l-7.72 7.72c-.78.78-.78 2.05 0 2.83L4 21.41c.39.39.9.59 1.41.59.51 0 1.02-.2 1.41-.59l7.78-7.78 2.81-2.81c.8-.78.8-2.07 0-2.86zM5.41 20L4 18.59l7.72-7.72 1.47 1.35L5.41 20z\"/>\n",
              "  </svg>\n",
              "      </button>\n",
              "      \n",
              "  <style>\n",
              "    .colab-df-container {\n",
              "      display:flex;\n",
              "      flex-wrap:wrap;\n",
              "      gap: 12px;\n",
              "    }\n",
              "\n",
              "    .colab-df-convert {\n",
              "      background-color: #E8F0FE;\n",
              "      border: none;\n",
              "      border-radius: 50%;\n",
              "      cursor: pointer;\n",
              "      display: none;\n",
              "      fill: #1967D2;\n",
              "      height: 32px;\n",
              "      padding: 0 0 0 0;\n",
              "      width: 32px;\n",
              "    }\n",
              "\n",
              "    .colab-df-convert:hover {\n",
              "      background-color: #E2EBFA;\n",
              "      box-shadow: 0px 1px 2px rgba(60, 64, 67, 0.3), 0px 1px 3px 1px rgba(60, 64, 67, 0.15);\n",
              "      fill: #174EA6;\n",
              "    }\n",
              "\n",
              "    [theme=dark] .colab-df-convert {\n",
              "      background-color: #3B4455;\n",
              "      fill: #D2E3FC;\n",
              "    }\n",
              "\n",
              "    [theme=dark] .colab-df-convert:hover {\n",
              "      background-color: #434B5C;\n",
              "      box-shadow: 0px 1px 3px 1px rgba(0, 0, 0, 0.15);\n",
              "      filter: drop-shadow(0px 1px 2px rgba(0, 0, 0, 0.3));\n",
              "      fill: #FFFFFF;\n",
              "    }\n",
              "  </style>\n",
              "\n",
              "      <script>\n",
              "        const buttonEl =\n",
              "          document.querySelector('#df-cc826cc8-330b-498e-a90b-622b06858ace button.colab-df-convert');\n",
              "        buttonEl.style.display =\n",
              "          google.colab.kernel.accessAllowed ? 'block' : 'none';\n",
              "\n",
              "        async function convertToInteractive(key) {\n",
              "          const element = document.querySelector('#df-cc826cc8-330b-498e-a90b-622b06858ace');\n",
              "          const dataTable =\n",
              "            await google.colab.kernel.invokeFunction('convertToInteractive',\n",
              "                                                     [key], {});\n",
              "          if (!dataTable) return;\n",
              "\n",
              "          const docLinkHtml = 'Like what you see? Visit the ' +\n",
              "            '<a target=\"_blank\" href=https://colab.research.google.com/notebooks/data_table.ipynb>data table notebook</a>'\n",
              "            + ' to learn more about interactive tables.';\n",
              "          element.innerHTML = '';\n",
              "          dataTable['output_type'] = 'display_data';\n",
              "          await google.colab.output.renderOutput(dataTable, element);\n",
              "          const docLink = document.createElement('div');\n",
              "          docLink.innerHTML = docLinkHtml;\n",
              "          element.appendChild(docLink);\n",
              "        }\n",
              "      </script>\n",
              "    </div>\n",
              "  </div>\n",
              "  "
            ]
          },
          "metadata": {},
          "execution_count": 53
        }
      ],
      "source": [
        "df_test.head()"
      ]
    },
    {
      "cell_type": "code",
      "execution_count": null,
      "metadata": {
        "id": "Kn2S1qdZAqmC"
      },
      "outputs": [],
      "source": [
        "df_train.head()"
      ]
    },
    {
      "cell_type": "code",
      "execution_count": null,
      "metadata": {
        "id": "mIszX3tcBOGw"
      },
      "outputs": [],
      "source": [
        "df_test.groupby(\"ClassId\").count().plot(kind=\"bar\")"
      ]
    },
    {
      "cell_type": "code",
      "execution_count": null,
      "metadata": {
        "id": "sAl-6T1VC0nL"
      },
      "outputs": [],
      "source": [
        "test_df = df_test.sample(10000, replace=False)\n",
        "test_df.groupby(\"ClassId\").count().plot(kind=\"bar\")"
      ]
    },
    {
      "cell_type": "code",
      "execution_count": null,
      "metadata": {
        "id": "P-g7cOeYIV8c"
      },
      "outputs": [],
      "source": [
        "isin = ~df_test.isin(test_df)\n",
        "isin"
      ]
    },
    {
      "cell_type": "code",
      "execution_count": null,
      "metadata": {
        "id": "ZGyNMpjKKUNO"
      },
      "outputs": [],
      "source": [
        "new_train = df_test[isin].dropna()"
      ]
    },
    {
      "cell_type": "code",
      "execution_count": null,
      "metadata": {
        "id": "pW8rWBAuLk1K"
      },
      "outputs": [],
      "source": [
        "result_train = pd.concat([df_train, new_train])"
      ]
    },
    {
      "cell_type": "code",
      "execution_count": null,
      "metadata": {
        "id": "PXskJvTDMpt-"
      },
      "outputs": [],
      "source": [
        "# result_train.shape\n",
        "result_train.to_csv(\"Train_data_extended.csv\")"
      ]
    },
    {
      "cell_type": "code",
      "execution_count": null,
      "metadata": {
        "id": "6oNgDEnCNxK1"
      },
      "outputs": [],
      "source": [
        "test_df.to_csv(\"Test_data_reduced.csv\")"
      ]
    },
    {
      "cell_type": "code",
      "execution_count": null,
      "metadata": {
        "id": "9S0O9srtJuEX"
      },
      "outputs": [],
      "source": []
    },
    {
      "cell_type": "code",
      "execution_count": null,
      "metadata": {
        "id": "pA8oBs6kJdSu"
      },
      "outputs": [],
      "source": [
        "test_df = pd.read_csv(\"/content/Test_data_reduced.csv\")"
      ]
    },
    {
      "cell_type": "code",
      "execution_count": null,
      "metadata": {
        "colab": {
          "base_uri": "https://localhost:8080/"
        },
        "id": "7T2vn5aWJvGp",
        "outputId": "b72716d8-aae2-46f1-cfb0-16f5c8f3a29e"
      },
      "outputs": [
        {
          "data": {
            "text/plain": [
              "(10000, 4)"
            ]
          },
          "execution_count": 11,
          "metadata": {},
          "output_type": "execute_result"
        }
      ],
      "source": [
        "test_df.shape"
      ]
    },
    {
      "cell_type": "code",
      "execution_count": null,
      "metadata": {
        "id": "OX0BHNgjJxWq"
      },
      "outputs": [],
      "source": [
        "df_train_extended = pd.read_csv(\"/content/Train_data_extended.csv\")"
      ]
    },
    {
      "cell_type": "code",
      "source": [
        "df_train_extended.groupby(\"ClassId\")[\"Path\"].count().sort_values().plot(kind=\"bar\")"
      ],
      "metadata": {
        "colab": {
          "base_uri": "https://localhost:8080/",
          "height": 315
        },
        "id": "unfrpDOCyMqu",
        "outputId": "b47d399b-39c0-4989-dc35-48c802e9da5e"
      },
      "execution_count": 51,
      "outputs": [
        {
          "output_type": "execute_result",
          "data": {
            "text/plain": [
              "<matplotlib.axes._subplots.AxesSubplot at 0x7f9c33a7bd50>"
            ]
          },
          "metadata": {},
          "execution_count": 51
        },
        {
          "output_type": "display_data",
          "data": {
            "text/plain": [
              "<Figure size 432x288 with 1 Axes>"
            ],
            "image/png": "[encoded data removed]"
          },
          "metadata": {
            "needs_background": "light"
          }
        }
      ]
    },
    {
      "cell_type": "code",
      "source": [
        "df_train_extended.groupby(\"ClassId\")[\"Path\"].count().sort_values(ascending = False)"
      ],
      "metadata": {
        "colab": {
          "base_uri": "https://localhost:8080/"
        },
        "id": "N9aNlJZSz0Dc",
        "outputId": "05ce2798-0662-4428-90d4-4630f0f3876c"
      },
      "execution_count": 61,
      "outputs": [
        {
          "output_type": "execute_result",
          "data": {
            "text/plain": [
              "Float64Index([ 2.0,  1.0, 13.0, 12.0, 38.0, 10.0,  4.0,  5.0,  9.0, 25.0,\n",
              "              ...\n",
              "              42.0, 21.0, 39.0, 20.0, 32.0, 27.0, 37.0, 19.0,  0.0, 41.0],\n",
              "             dtype='float64', name='ClassId', length=205)"
            ]
          },
          "metadata": {},
          "execution_count": 61
        }
      ]
    },
    {
      "cell_type": "code",
      "source": [
        "df_train_extended_amount = pd.DataFrame( {\"Class\":df_train_extended.groupby(\"ClassId\")[\"Path\"].count().sort_values(ascending = False).keys(), \n",
        "                                 \"Class_amount\":df_train_extended.groupby(\"ClassId\")[\"Path\"].count().sort_values(ascending = False)} )\n",
        "df_train_extended_amount"
      ],
      "metadata": {
        "id": "KixSFqxVynVz"
      },
      "execution_count": null,
      "outputs": []
    },
    {
      "cell_type": "code",
      "source": [
        "df_train_extended_amount[df_train_extended_amount.Class_amount < 367]"
      ],
      "metadata": {
        "id": "-Nfvatf_1Uc7"
      },
      "execution_count": null,
      "outputs": []
    },
    {
      "cell_type": "code",
      "source": [
        "\n",
        "rotation = A.Compose([A.Rotate(45), ToTensorV2()])\n",
        "flip = A.Compose([A.HorizontalFlip(p=0.5), ToTensorV2()])\n",
        "perspective = A.Compose([A.Perspective(scale=[0,0.1],keep_size=False,fit_output=False,p=1), ToTensorV2()])\n",
        "blur = A.Compose([A.GaussianBlur(blur_limit=(3, 7), p=0.5), ToTensorV2()])\n",
        "\n",
        "random_transformation = [ rotation, flip, perspective, blur ]\n",
        "\n",
        "for i in df_train_extended[\"Path\"]:\n",
        "  image = cv2.imread(f'Data_images/{i}')\n",
        "  image = cv2.cvtColor(image,cv2.COLOR_BGR2RGB)\n",
        "  choice = random.choice(random_transformation)\n",
        "  transformed_img = choice(image=image)[\"image\"]\n",
        "  # cv2.imwrite(f'/content/Data_images/NewFolder/transformed{i}', transformed_img) "
      ],
      "metadata": {
        "id": "_SR1Y-KY14HI"
      },
      "execution_count": null,
      "outputs": []
    }
  ],
  "metadata": {
    "colab": {
      "name": "model0 (1).ipynb",
      "provenance": [],
      "collapsed_sections": []
    },
    "gpuClass": "standard",
    "kernelspec": {
      "display_name": "Python 3",
      "name": "python3"
    },
    "language_info": {
      "name": "python"
    }
  },
  "nbformat": 4,
  "nbformat_minor": 0
}